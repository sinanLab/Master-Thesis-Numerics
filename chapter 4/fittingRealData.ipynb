{
  "cells": [
    {
      "cell_type": "code",
      "execution_count": 1,
      "metadata": {
        "id": "N2i-AEUjdNEV"
      },
      "outputs": [],
      "source": [
        "from scipy.integrate import odeint\n",
        "import numpy as np\n",
        "import matplotlib.pyplot as plt\n",
        "import pandas as pd\n",
        "from fit import optimize_model"
      ]
    },
    {
      "cell_type": "code",
      "execution_count": 6,
      "metadata": {},
      "outputs": [
        {
          "data": {
            "text/plain": [
              "(41731, 15)"
            ]
          },
          "execution_count": 6,
          "metadata": {},
          "output_type": "execute_result"
        }
      ],
      "source": [
        "path = 'owid-monkeypox-data.csv'\n",
        "dataset = pd.read_csv('owid-monkeypox-data.csv', delimiter = ',')\n",
        "dataset.shape"
      ]
    },
    {
      "cell_type": "code",
      "execution_count": 7,
      "metadata": {},
      "outputs": [
        {
          "data": {
            "text/html": [
              "<div>\n",
              "<style scoped>\n",
              "    .dataframe tbody tr th:only-of-type {\n",
              "        vertical-align: middle;\n",
              "    }\n",
              "\n",
              "    .dataframe tbody tr th {\n",
              "        vertical-align: top;\n",
              "    }\n",
              "\n",
              "    .dataframe thead th {\n",
              "        text-align: right;\n",
              "    }\n",
              "</style>\n",
              "<table border=\"1\" class=\"dataframe\">\n",
              "  <thead>\n",
              "    <tr style=\"text-align: right;\">\n",
              "      <th></th>\n",
              "      <th>date</th>\n",
              "      <th>total_cases</th>\n",
              "      <th>new_cases</th>\n",
              "      <th>new_cases_smoothed</th>\n",
              "    </tr>\n",
              "  </thead>\n",
              "  <tbody>\n",
              "    <tr>\n",
              "      <th>8139</th>\n",
              "      <td>6/24/2022</td>\n",
              "      <td>1</td>\n",
              "      <td>1</td>\n",
              "      <td>0.14</td>\n",
              "    </tr>\n",
              "    <tr>\n",
              "      <th>8140</th>\n",
              "      <td>6/25/2022</td>\n",
              "      <td>1</td>\n",
              "      <td>0</td>\n",
              "      <td>0.14</td>\n",
              "    </tr>\n",
              "    <tr>\n",
              "      <th>8141</th>\n",
              "      <td>6/26/2022</td>\n",
              "      <td>1</td>\n",
              "      <td>0</td>\n",
              "      <td>0.14</td>\n",
              "    </tr>\n",
              "    <tr>\n",
              "      <th>8142</th>\n",
              "      <td>6/27/2022</td>\n",
              "      <td>1</td>\n",
              "      <td>0</td>\n",
              "      <td>0.14</td>\n",
              "    </tr>\n",
              "    <tr>\n",
              "      <th>8143</th>\n",
              "      <td>6/28/2022</td>\n",
              "      <td>1</td>\n",
              "      <td>0</td>\n",
              "      <td>0.14</td>\n",
              "    </tr>\n",
              "    <tr>\n",
              "      <th>...</th>\n",
              "      <td>...</td>\n",
              "      <td>...</td>\n",
              "      <td>...</td>\n",
              "      <td>...</td>\n",
              "    </tr>\n",
              "    <tr>\n",
              "      <th>8526</th>\n",
              "      <td>7/16/2023</td>\n",
              "      <td>253</td>\n",
              "      <td>0</td>\n",
              "      <td>2.57</td>\n",
              "    </tr>\n",
              "    <tr>\n",
              "      <th>8527</th>\n",
              "      <td>7/17/2023</td>\n",
              "      <td>253</td>\n",
              "      <td>0</td>\n",
              "      <td>2.57</td>\n",
              "    </tr>\n",
              "    <tr>\n",
              "      <th>8528</th>\n",
              "      <td>7/18/2023</td>\n",
              "      <td>366</td>\n",
              "      <td>113</td>\n",
              "      <td>17.14</td>\n",
              "    </tr>\n",
              "    <tr>\n",
              "      <th>8529</th>\n",
              "      <td>7/19/2023</td>\n",
              "      <td>368</td>\n",
              "      <td>2</td>\n",
              "      <td>16.57</td>\n",
              "    </tr>\n",
              "    <tr>\n",
              "      <th>8530</th>\n",
              "      <td>7/20/2023</td>\n",
              "      <td>370</td>\n",
              "      <td>2</td>\n",
              "      <td>16.86</td>\n",
              "    </tr>\n",
              "  </tbody>\n",
              "</table>\n",
              "<p>392 rows × 4 columns</p>\n",
              "</div>"
            ],
            "text/plain": [
              "           date  total_cases  new_cases  new_cases_smoothed\n",
              "8139  6/24/2022            1          1                0.14\n",
              "8140  6/25/2022            1          0                0.14\n",
              "8141  6/26/2022            1          0                0.14\n",
              "8142  6/27/2022            1          0                0.14\n",
              "8143  6/28/2022            1          0                0.14\n",
              "...         ...          ...        ...                 ...\n",
              "8526  7/16/2023          253          0                2.57\n",
              "8527  7/17/2023          253          0                2.57\n",
              "8528  7/18/2023          366        113               17.14\n",
              "8529  7/19/2023          368          2               16.57\n",
              "8530  7/20/2023          370          2               16.86\n",
              "\n",
              "[392 rows x 4 columns]"
            ]
          },
          "execution_count": 7,
          "metadata": {},
          "output_type": "execute_result"
        }
      ],
      "source": [
        "country = 'China'\n",
        "filtered_df = dataset[dataset['location'] == country]\n",
        "selected_columns = ['date', 'total_cases', 'new_cases', 'new_cases_smoothed']  # Replace with the names of the columns you want\n",
        "filtered_df = filtered_df.loc[:, selected_columns]\n",
        "filtered_df"
      ]
    },
    {
      "cell_type": "code",
      "execution_count": 8,
      "metadata": {},
      "outputs": [],
      "source": [
        "filtered_df['date'] = pd.to_datetime(filtered_df['date'])\n",
        "start_date = pd.to_datetime('2022-06-24')  # Replace with your desired start date\n",
        "end_date = pd.to_datetime('2023-07-24')    # Replace with your desired end date\n",
        "\n",
        "# Filter the DataFrame to select data within the date range\n",
        "filtered_df = filtered_df[(filtered_df['date'] >= start_date) & (filtered_df['date'] <= end_date)]"
      ]
    },
    {
      "cell_type": "code",
      "execution_count": 9,
      "metadata": {},
      "outputs": [
        {
          "data": {
            "text/plain": [
              "date                  0\n",
              "total_cases           0\n",
              "new_cases             0\n",
              "new_cases_smoothed    0\n",
              "dtype: int64"
            ]
          },
          "execution_count": 9,
          "metadata": {},
          "output_type": "execute_result"
        }
      ],
      "source": [
        "null_values = filtered_df.isnull().sum()\n",
        "null_values"
      ]
    },
    {
      "cell_type": "code",
      "execution_count": 10,
      "metadata": {},
      "outputs": [],
      "source": [
        "def interpolate_missing(column):\n",
        "    x = column.index[column.notnull()]\n",
        "    y = column[column.notnull()]\n",
        "    f = interp1d(x, y, kind='nearest', fill_value=\"extrapolate\")\n",
        "    return f(column.index)"
      ]
    },
    {
      "cell_type": "code",
      "execution_count": 11,
      "metadata": {},
      "outputs": [],
      "source": [
        "for column in filtered_df.columns:\n",
        "    if filtered_df[column].isnull().any():\n",
        "        filtered_df[column] = interpolate_missing(filtered_df[column])"
      ]
    },
    {
      "cell_type": "code",
      "execution_count": 12,
      "metadata": {},
      "outputs": [],
      "source": [
        "filtered_df.to_csv('Filled_NAN_exportData.csv', index=False)"
      ]
    },
    {
      "cell_type": "code",
      "execution_count": 13,
      "metadata": {},
      "outputs": [
        {
          "data": {
            "text/html": [
              "<div>\n",
              "<style scoped>\n",
              "    .dataframe tbody tr th:only-of-type {\n",
              "        vertical-align: middle;\n",
              "    }\n",
              "\n",
              "    .dataframe tbody tr th {\n",
              "        vertical-align: top;\n",
              "    }\n",
              "\n",
              "    .dataframe thead th {\n",
              "        text-align: right;\n",
              "    }\n",
              "</style>\n",
              "<table border=\"1\" class=\"dataframe\">\n",
              "  <thead>\n",
              "    <tr style=\"text-align: right;\">\n",
              "      <th></th>\n",
              "      <th>date</th>\n",
              "      <th>total_cases</th>\n",
              "      <th>new_cases</th>\n",
              "      <th>new_cases_smoothed</th>\n",
              "    </tr>\n",
              "  </thead>\n",
              "  <tbody>\n",
              "    <tr>\n",
              "      <th>8139</th>\n",
              "      <td>2022-06-24</td>\n",
              "      <td>1</td>\n",
              "      <td>1</td>\n",
              "      <td>0.14</td>\n",
              "    </tr>\n",
              "    <tr>\n",
              "      <th>8140</th>\n",
              "      <td>2022-06-25</td>\n",
              "      <td>1</td>\n",
              "      <td>0</td>\n",
              "      <td>0.14</td>\n",
              "    </tr>\n",
              "    <tr>\n",
              "      <th>8141</th>\n",
              "      <td>2022-06-26</td>\n",
              "      <td>1</td>\n",
              "      <td>0</td>\n",
              "      <td>0.14</td>\n",
              "    </tr>\n",
              "    <tr>\n",
              "      <th>8142</th>\n",
              "      <td>2022-06-27</td>\n",
              "      <td>1</td>\n",
              "      <td>0</td>\n",
              "      <td>0.14</td>\n",
              "    </tr>\n",
              "    <tr>\n",
              "      <th>8143</th>\n",
              "      <td>2022-06-28</td>\n",
              "      <td>1</td>\n",
              "      <td>0</td>\n",
              "      <td>0.14</td>\n",
              "    </tr>\n",
              "    <tr>\n",
              "      <th>...</th>\n",
              "      <td>...</td>\n",
              "      <td>...</td>\n",
              "      <td>...</td>\n",
              "      <td>...</td>\n",
              "    </tr>\n",
              "    <tr>\n",
              "      <th>8526</th>\n",
              "      <td>2023-07-16</td>\n",
              "      <td>253</td>\n",
              "      <td>0</td>\n",
              "      <td>2.57</td>\n",
              "    </tr>\n",
              "    <tr>\n",
              "      <th>8527</th>\n",
              "      <td>2023-07-17</td>\n",
              "      <td>253</td>\n",
              "      <td>0</td>\n",
              "      <td>2.57</td>\n",
              "    </tr>\n",
              "    <tr>\n",
              "      <th>8528</th>\n",
              "      <td>2023-07-18</td>\n",
              "      <td>366</td>\n",
              "      <td>113</td>\n",
              "      <td>17.14</td>\n",
              "    </tr>\n",
              "    <tr>\n",
              "      <th>8529</th>\n",
              "      <td>2023-07-19</td>\n",
              "      <td>368</td>\n",
              "      <td>2</td>\n",
              "      <td>16.57</td>\n",
              "    </tr>\n",
              "    <tr>\n",
              "      <th>8530</th>\n",
              "      <td>2023-07-20</td>\n",
              "      <td>370</td>\n",
              "      <td>2</td>\n",
              "      <td>16.86</td>\n",
              "    </tr>\n",
              "  </tbody>\n",
              "</table>\n",
              "<p>392 rows × 4 columns</p>\n",
              "</div>"
            ],
            "text/plain": [
              "           date  total_cases  new_cases  new_cases_smoothed\n",
              "8139 2022-06-24            1          1                0.14\n",
              "8140 2022-06-25            1          0                0.14\n",
              "8141 2022-06-26            1          0                0.14\n",
              "8142 2022-06-27            1          0                0.14\n",
              "8143 2022-06-28            1          0                0.14\n",
              "...         ...          ...        ...                 ...\n",
              "8526 2023-07-16          253          0                2.57\n",
              "8527 2023-07-17          253          0                2.57\n",
              "8528 2023-07-18          366        113               17.14\n",
              "8529 2023-07-19          368          2               16.57\n",
              "8530 2023-07-20          370          2               16.86\n",
              "\n",
              "[392 rows x 4 columns]"
            ]
          },
          "execution_count": 13,
          "metadata": {},
          "output_type": "execute_result"
        }
      ],
      "source": [
        "filtered_df = filtered_df.sort_values(by='date')\n",
        "filtered_df"
      ]
    },
    {
      "cell_type": "code",
      "execution_count": 14,
      "metadata": {},
      "outputs": [],
      "source": [
        "filtered_df.to_csv('ExportedData.csv', index=False)"
      ]
    },
    {
      "cell_type": "code",
      "execution_count": 17,
      "metadata": {},
      "outputs": [
        {
          "data": {
            "text/html": [
              "<div>\n",
              "<style scoped>\n",
              "    .dataframe tbody tr th:only-of-type {\n",
              "        vertical-align: middle;\n",
              "    }\n",
              "\n",
              "    .dataframe tbody tr th {\n",
              "        vertical-align: top;\n",
              "    }\n",
              "\n",
              "    .dataframe thead th {\n",
              "        text-align: right;\n",
              "    }\n",
              "</style>\n",
              "<table border=\"1\" class=\"dataframe\">\n",
              "  <thead>\n",
              "    <tr style=\"text-align: right;\">\n",
              "      <th></th>\n",
              "      <th>date</th>\n",
              "      <th>total_cases</th>\n",
              "      <th>new_cases</th>\n",
              "      <th>new_cases_smoothed</th>\n",
              "    </tr>\n",
              "  </thead>\n",
              "  <tbody>\n",
              "    <tr>\n",
              "      <th>count</th>\n",
              "      <td>392</td>\n",
              "      <td>392.000000</td>\n",
              "      <td>392.000000</td>\n",
              "      <td>392.000000</td>\n",
              "    </tr>\n",
              "    <tr>\n",
              "      <th>mean</th>\n",
              "      <td>2023-01-05 12:00:00</td>\n",
              "      <td>40.528061</td>\n",
              "      <td>0.943878</td>\n",
              "      <td>0.770663</td>\n",
              "    </tr>\n",
              "    <tr>\n",
              "      <th>min</th>\n",
              "      <td>2022-06-24 00:00:00</td>\n",
              "      <td>1.000000</td>\n",
              "      <td>0.000000</td>\n",
              "      <td>0.000000</td>\n",
              "    </tr>\n",
              "    <tr>\n",
              "      <th>25%</th>\n",
              "      <td>2022-09-29 18:00:00</td>\n",
              "      <td>5.000000</td>\n",
              "      <td>0.000000</td>\n",
              "      <td>0.000000</td>\n",
              "    </tr>\n",
              "    <tr>\n",
              "      <th>50%</th>\n",
              "      <td>2023-01-05 12:00:00</td>\n",
              "      <td>6.000000</td>\n",
              "      <td>0.000000</td>\n",
              "      <td>0.000000</td>\n",
              "    </tr>\n",
              "    <tr>\n",
              "      <th>75%</th>\n",
              "      <td>2023-04-13 06:00:00</td>\n",
              "      <td>28.000000</td>\n",
              "      <td>0.000000</td>\n",
              "      <td>0.570000</td>\n",
              "    </tr>\n",
              "    <tr>\n",
              "      <th>max</th>\n",
              "      <td>2023-07-20 00:00:00</td>\n",
              "      <td>370.000000</td>\n",
              "      <td>113.000000</td>\n",
              "      <td>17.140000</td>\n",
              "    </tr>\n",
              "    <tr>\n",
              "      <th>std</th>\n",
              "      <td>NaN</td>\n",
              "      <td>70.690741</td>\n",
              "      <td>6.532775</td>\n",
              "      <td>1.832957</td>\n",
              "    </tr>\n",
              "  </tbody>\n",
              "</table>\n",
              "</div>"
            ],
            "text/plain": [
              "                      date  total_cases   new_cases  new_cases_smoothed\n",
              "count                  392   392.000000  392.000000          392.000000\n",
              "mean   2023-01-05 12:00:00    40.528061    0.943878            0.770663\n",
              "min    2022-06-24 00:00:00     1.000000    0.000000            0.000000\n",
              "25%    2022-09-29 18:00:00     5.000000    0.000000            0.000000\n",
              "50%    2023-01-05 12:00:00     6.000000    0.000000            0.000000\n",
              "75%    2023-04-13 06:00:00    28.000000    0.000000            0.570000\n",
              "max    2023-07-20 00:00:00   370.000000  113.000000           17.140000\n",
              "std                    NaN    70.690741    6.532775            1.832957"
            ]
          },
          "execution_count": 17,
          "metadata": {},
          "output_type": "execute_result"
        }
      ],
      "source": [
        "filtered_df.describe()"
      ]
    },
    {
      "cell_type": "code",
      "execution_count": 15,
      "metadata": {},
      "outputs": [],
      "source": [
        "date = filtered_df['date']\n",
        "variableName = 'total_cases'\n",
        "realData = filtered_df[variableName]"
      ]
    },
    {
      "cell_type": "code",
      "execution_count": 16,
      "metadata": {},
      "outputs": [
        {
          "data": {
            "image/png": "[encoded data removed]",
            "text/plain": [
              "<Figure size 640x480 with 1 Axes>"
            ]
          },
          "metadata": {},
          "output_type": "display_data"
        }
      ],
      "source": [
        "plt.figure()\n",
        "plt.plot(date, realData, 'rs-')\n",
        "plt.xlabel('date')\n",
        "plt.ylabel('new cases - real data')\n",
        "plt.title('Real data [' + variableName + '] of ' + country)\n",
        "plt.savefig('realData.png', dpi=300)\n",
        "plt.show()"
      ]
    },
    {
      "cell_type": "code",
      "execution_count": 13,
      "metadata": {},
      "outputs": [
        {
          "data": {
            "text/plain": [
              "(392,)"
            ]
          },
          "execution_count": 13,
          "metadata": {},
          "output_type": "execute_result"
        }
      ],
      "source": [
        "# Define time points (in days)\n",
        "t_sim = np.arange(len(date))\n",
        "t_fit = np.arange(len(date))  # time points for fitting\n",
        "t_sim.shape"
      ]
    },
    {
      "cell_type": "code",
      "execution_count": null,
      "metadata": {},
      "outputs": [],
      "source": [
        "# Call optimization function - this line of code takes much time.\n",
        "best_params, I_h = optimize_model(realData, t_fit, n_iter=100)"
      ]
    },
    {
      "cell_type": "code",
      "execution_count": null,
      "metadata": {},
      "outputs": [],
      "source": [
        "best_params"
      ]
    },
    {
      "cell_type": "code",
      "execution_count": null,
      "metadata": {},
      "outputs": [],
      "source": [
        "# Print best-fit parameters\n",
        "print('Best-fit parameters: kappa_h=%.5f, kappa_r=%.5f, rho_1=%.5f, rho_2=%.5f, rho_3=%.5f, chi_h=%.5f, chi_r=%.5f, tau=%.5f, omega_1=%.5f, omega_2=%.5f, omega_3=%.5f, xi_h=%.5f, gamma_1=%.5f, gamma_2=%.5f, gamma_3=%.5f, psi_h=%.5f, psi_r=%.5f' % tuple(best_params))"
      ]
    },
    {
      "cell_type": "markdown",
      "metadata": {},
      "source": [
        "1. Best-fit parameters: kappa_h=0.86770, kappa_r=0.30560, rho_1=0.00807, rho_2=0.03089, rho_3=0.48042, chi_h=0.58229, chi_r=0.30710, tau=1.00042, omega_1=0.33561, omega_2=0.25713, omega_3=0.83473, xi_h=0.79374, gamma_1=0.76338, gamma_2=0.89685, gamma_3=0.68764, psi_h=0.87846, psi_r=0.01503"
      ]
    },
    {
      "cell_type": "code",
      "execution_count": null,
      "metadata": {},
      "outputs": [],
      "source": [
        "# Plot the results\n",
        "plt.figure(figsize=(7, 5))\n",
        "plt.plot(date, realData, 'rs-')\n",
        "plt.plot(t_sim, I_h, 'b-')\n",
        "# plt.title('Curve Fitting: Real data[' + variableName + '] of ' +country+' fitted in the model')\n",
        "plt.xlabel('Time (days)')\n",
        "plt.ylabel('Prevalence')\n",
        "# plt.legend('Real', 'Simulated', 'Prediction', loc='best')\n",
        "plt.savefig('result.png', dpi = 300)\n",
        "plt.savefig('result.eps', dpi = 300)\n",
        "plt.show()"
      ]
    },
    {
      "cell_type": "code",
      "execution_count": 22,
      "metadata": {},
      "outputs": [],
      "source": [
        "import numpy as np\n",
        "from scipy.integrate import odeint\n",
        "\n",
        "# Define time points (in days)\n",
        "# t_sim = np.arange(392)\n",
        "\n",
        "t_sim_for = np.arange(402)\n",
        "\n",
        "# t_fit = np.arange(392)  # time points for fitting\n",
        "# t_sim.shape\n",
        "\n",
        "# Define model function\n",
        "def model(y, t, kappa_h, kappa_r, rho_1, rho_2, rho_3, chi_h, chi_r, tau, omega_1, omega_2, omega_3, xi_h, gamma_1, gamma_2, gamma_3, psi_h, psi_r):\n",
        "    S_h, E_h, A_h, I_h, Q_h, R_h, S_r, E_r, I_r = y\n",
        "    N_h = 1425624477  # 2:04/ 5-7-2023 / https://www.worldometers.info/world-population/China-population/\n",
        "    \n",
        "    # Define initial conditions\n",
        "    E_h0 = 5    # initial number of infected\n",
        "    A_h0 = 5\n",
        "    I_h0 = 1\n",
        "    Q_h0 = 1    # initial number of recovered\n",
        "    R_h0 = 0\n",
        "    S_h0 = N_h - (E_h0 + A_h0 + I_h0 + Q_h0 + R_h0)\n",
        "\n",
        "    E_r0 = 100\n",
        "    I_r0 = 50\n",
        "    S_r0 = S_h0 * 10e-2   # this condition is given from this paper: https://doi.org/10.3390/math11051121\n",
        "    N_r = S_r0 + E_r0 + I_r0\n",
        "\n",
        "    dS_hdt = kappa_h * N_h - rho_1 * I_r * S_h / N_h - rho_2 * I_h * S_h / N_h - chi_h * S_h + tau * Q_h\n",
        "    dE_hdt = rho_1 * I_r * S_h / N_h + rho_2 * I_h * S_h / N_h - (omega_1 + omega_2 + omega_3 + chi_h) * E_h\n",
        "    dA_hdt = omega_1 * E_h - (xi_h + chi_h + gamma_1) * A_h\n",
        "    dI_hdt = omega_2 * E_h + xi_h * A_h - (chi_h + psi_h + gamma_2) * I_h\n",
        "    dQ_hdt = omega_3 * E_h - (tau + gamma_3 + psi_h + chi_h) * Q_h\n",
        "    dR_hdt = gamma_1 * A_h + gamma_2 * I_h + gamma_3 * Q_h - chi_h * R_h\n",
        "    dS_rdt = kappa_r * N_r - rho_3 * S_r * I_r / N_r - chi_r * S_r\n",
        "    dE_rdt = rho_3 * S_r * I_r / N_r - (chi_r + omega_3) * E_r\n",
        "    dI_rdt = omega_3 * E_r - (chi_r + psi_r) * I_r\n",
        "    return [dS_hdt, dE_hdt, dA_hdt, dI_hdt, dQ_hdt, dR_hdt, dS_rdt, dE_rdt, dI_rdt]\n",
        "\n",
        "# Define parameter values\n",
        "kappa_h = 0.86770\n",
        "kappa_r = 0.30560\n",
        "rho_1 = 0.00807\n",
        "rho_2 = 0.03089\n",
        "rho_3 = 0.48042\n",
        "chi_h = 0.58229\n",
        "chi_r = 0.30710\n",
        "tau = 1.00042\n",
        "omega_1 = 0.33561\n",
        "omega_2 = 0.25713\n",
        "omega_3 = 0.83473\n",
        "xi_h = 0.79374\n",
        "gamma_1 = 0.76338\n",
        "gamma_2 = 0.89685\n",
        "gamma_3=0.68764\n",
        "psi_h = 0.87846\n",
        "psi_r = 0.01503\n",
        "\n",
        "N_h = 1425624477  # 2:04/5-7-2023 / https://www.worldometers.info/world-population/China-population/\n",
        "\n",
        "# Define initial conditions\n",
        "E_h0 = 5  # initial number of infected\n",
        "A_h0 = 5\n",
        "I_h0 = 1\n",
        "Q_h0 = 1  # initial number of recovered\n",
        "R_h0 = 0\n",
        "S_h0 = N_h - (E_h0 + A_h0 + I_h0 + Q_h0 + R_h0)\n",
        "\n",
        "E_r0 = 100\n",
        "I_r0 = 50\n",
        "S_r0 = S_h0 * 10e-2  # this condition is given from this paper: https://doi.org/10.3390/math11051121\n",
        "N_r = S_r0 + E_r0 + I_r0\n",
        "\n",
        "y0 = S_h0, E_h0, A_h0, I_h0, Q_h0, R_h0, S_r0, E_r0, I_r0\n",
        "solution = odeint(model, y0, t_sim_for, args=(kappa_h, kappa_r, rho_1, rho_2, rho_3, chi_h, chi_r, tau, omega_1, omega_2, omega_3, xi_h, gamma_1, gamma_2, gamma_3, psi_h, psi_r))\n",
        "# S_h, E_h, A_h, I_h, Q_h, R_h, S_r, E_r, I_r = solution.T\n",
        "S_h_for, E_h_for, A_h_for, I_h_for, Q_h_for, R_h_for, S_r_for, E_r_for, I_r_for = solution.T"
      ]
    },
    {
      "cell_type": "code",
      "execution_count": 16,
      "metadata": {},
      "outputs": [],
      "source": [
        "S_r = kappa_h*N_h/chi_h\n",
        "S_h = kappa_r*N_r/chi_r\n",
        "R0_r = (S_r*omega_3*rho_3)/(N_r*(chi_r + omega_3)*(chi_r + psi_r))\n",
        "R0_h = (S_h*rho_2*(chi_h*omega_2 + gamma_1*omega_2 + omega_1*xi_h + omega_2*xi_h))/(N_h*(chi_h + gamma_2 + psi_h)*(chi_h + gamma_1 + xi_h)*(chi_h + omega_1 + omega_2 + omega_3))"
      ]
    },
    {
      "cell_type": "code",
      "execution_count": 17,
      "metadata": {},
      "outputs": [
        {
          "name": "stdout",
          "output_type": "stream",
          "text": [
            "R0_r: 16.2467, and R0_h: 0.0002\n"
          ]
        }
      ],
      "source": [
        "print('R0_r: {:.4f}, and R0_h: {:.4f}'.format(R0_r, R0_h))"
      ]
    },
    {
      "cell_type": "code",
      "execution_count": 23,
      "metadata": {},
      "outputs": [
        {
          "name": "stderr",
          "output_type": "stream",
          "text": [
            "The PostScript backend does not support transparency; partially transparent artists will be rendered opaque.\n"
          ]
        },
        {
          "data": {
            "image/png": "[encoded data removed]",
            "text/plain": [
              "<Figure size 700x500 with 1 Axes>"
            ]
          },
          "metadata": {},
          "output_type": "display_data"
        }
      ],
      "source": [
        "# Plot the results\n",
        "plt.figure(figsize=(7, 5))\n",
        "# plt.plot(date, realData, 'rs-')\n",
        "plt.plot(t_sim, I_h, 'b-', label='Current Simulation', linewidth=3.0)\n",
        "plt.plot(t_sim_for, I_h_for, 'r--', label='Prediction', linewidth=3.0)\n",
        "# plt.title('Curve Fitting: Real data[' + variableName + '] of ' +country+' fitted in the model')\n",
        "plt.xlabel('Time (days)')\n",
        "plt.ylabel('Prevalence')\n",
        "plt.legend(loc='best')\n",
        "plt.savefig('forcastresult.png', dpi = 300)\n",
        "plt.savefig('forcastresult.eps', dpi = 300)\n",
        "plt.show()"
      ]
    }
  ],
  "metadata": {
    "colab": {
      "provenance": []
    },
    "kernelspec": {
      "display_name": "Python 3",
      "name": "python3"
    },
    "language_info": {
      "codemirror_mode": {
        "name": "ipython",
        "version": 3
      },
      "file_extension": ".py",
      "mimetype": "text/x-python",
      "name": "python",
      "nbconvert_exporter": "python",
      "pygments_lexer": "ipython3",
      "version": "3.11.5"
    }
  },
  "nbformat": 4,
  "nbformat_minor": 0
}
